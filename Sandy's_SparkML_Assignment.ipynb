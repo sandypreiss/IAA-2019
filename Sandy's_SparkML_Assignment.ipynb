{
  "nbformat": 4,
  "nbformat_minor": 0,
  "metadata": {
    "colab": {
      "name": "Sandy's SparkML Assignment",
      "provenance": [],
      "collapsed_sections": [],
      "include_colab_link": true
    },
    "kernelspec": {
      "name": "python3",
      "display_name": "Python 3"
    }
  },
  "cells": [
    {
      "cell_type": "markdown",
      "metadata": {
        "id": "view-in-github",
        "colab_type": "text"
      },
      "source": [
        "<a href=\"https://colab.research.google.com/github/sandypreiss/IAA-2019/blob/master/Sandy's_SparkML_Assignment.ipynb\" target=\"_parent\"><img src=\"https://colab.research.google.com/assets/colab-badge.svg\" alt=\"Open In Colab\"/></a>"
      ]
    },
    {
      "cell_type": "markdown",
      "metadata": {
        "id": "SWE-YUBsNthe",
        "colab_type": "text"
      },
      "source": [
        "## **Spark ML Assignment**\n",
        "The goal of this assignment is to train a Spark ML Model. \n",
        "\n",
        "You may do this in any way that you'd like, but I've provided this template as a helpful framework, which you may find helpful. \n",
        "\n",
        "Assignment:\n",
        "\n",
        "1) Load the CSV into a Spark Dataframe. I've added code to automatically download \"banking_attrition.csv\", however, if you have another dataset you'd like to analyze, feel free to use that instead. \n",
        "\n",
        "2) Preprocess the data, applying any data exploration or cleaning techniques. \n",
        "\n",
        "3) Split the model into train and test\n",
        "\n",
        "4) Train the model (Please predict \"attrition\" probability if you use the banking_attrition.csv\" file). \n",
        "\n",
        "5) Apply the model again your test dataframe\n",
        "\n",
        "6) Display model evaluation \n",
        "\n"
      ]
    },
    {
      "cell_type": "markdown",
      "metadata": {
        "id": "tBqp2EKl2mhX",
        "colab_type": "text"
      },
      "source": [
        "## **Install PySpark Dependencies**"
      ]
    },
    {
      "cell_type": "code",
      "metadata": {
        "id": "qXWkpWwR2gVR",
        "colab_type": "code",
        "colab": {}
      },
      "source": [
        "!apt-get install openjdk-8-jdk-headless -qq > /dev/null\n",
        "!rm spark-2.4.5-bin-hadoop2.7.tgz\n",
        "!wget --no-cookies --no-check-certificate https://downloads.apache.org/spark/spark-2.4.5/spark-2.4.5-bin-hadoop2.7.tgz\n",
        "!tar zxvf spark-2.4.5-bin-hadoop2.7.tgz\n",
        "!pip install -q findspark\n",
        "!pip install pyspark"
      ],
      "execution_count": 0,
      "outputs": []
    },
    {
      "cell_type": "markdown",
      "metadata": {
        "id": "BEciKx-M2y75",
        "colab_type": "text"
      },
      "source": [
        "## **Load Data**"
      ]
    },
    {
      "cell_type": "code",
      "metadata": {
        "id": "iYrbIewX23lA",
        "colab_type": "code",
        "colab": {
          "base_uri": "https://localhost:8080/",
          "height": 204
        },
        "outputId": "f6ba61f7-0d66-4b4c-fa7f-36dc976227ad"
      },
      "source": [
        "!wget https://raw.githubusercontent.com/zaratsian/Datasets/master/banking_attrition.csv"
      ],
      "execution_count": 3,
      "outputs": [
        {
          "output_type": "stream",
          "text": [
            "--2020-03-30 18:00:21--  https://raw.githubusercontent.com/zaratsian/Datasets/master/banking_attrition.csv\n",
            "Resolving raw.githubusercontent.com (raw.githubusercontent.com)... 151.101.0.133, 151.101.64.133, 151.101.128.133, ...\n",
            "Connecting to raw.githubusercontent.com (raw.githubusercontent.com)|151.101.0.133|:443... connected.\n",
            "HTTP request sent, awaiting response... 200 OK\n",
            "Length: 4021593 (3.8M) [text/plain]\n",
            "Saving to: ‘banking_attrition.csv’\n",
            "\n",
            "\rbanking_attrition.c   0%[                    ]       0  --.-KB/s               \rbanking_attrition.c 100%[===================>]   3.83M  20.5MB/s    in 0.2s    \n",
            "\n",
            "2020-03-30 18:00:21 (20.5 MB/s) - ‘banking_attrition.csv’ saved [4021593/4021593]\n",
            "\n"
          ],
          "name": "stdout"
        }
      ]
    },
    {
      "cell_type": "markdown",
      "metadata": {
        "id": "8BpC4MLS25kj",
        "colab_type": "text"
      },
      "source": [
        "## **Import Python / Spark Libraries**"
      ]
    },
    {
      "cell_type": "code",
      "metadata": {
        "id": "lRZl0-Xt2_NE",
        "colab_type": "code",
        "colab": {}
      },
      "source": [
        "import os\n",
        "os.environ[\"JAVA_HOME\"]  = \"/usr/lib/jvm/java-8-openjdk-amd64\"\n",
        "os.environ[\"SPARK_HOME\"] = \"/content/spark-2.4.5-bin-hadoop2.7\"\n",
        "\n",
        "import datetime, time\n",
        "import re, random, sys\n",
        "import spark_df_profiling\n",
        "\n",
        "# Note - Not all of these will be used, but I've added them for your reference as a \"getting started\"\n",
        "from pyspark import SparkContext\n",
        "from pyspark.sql import SparkSession\n",
        "from pyspark.sql.types import StructType, StructField, ArrayType, IntegerType, StringType, FloatType, LongType, DateType\n",
        "from pyspark.sql.functions import struct, array, lit, monotonically_increasing_id, col, expr, when, concat, udf, split, size, lag, count, isnull\n",
        "from pyspark.sql import Window\n",
        "from pyspark.ml.linalg import Vectors\n",
        "from pyspark.ml.regression import GBTRegressor, LinearRegression, GeneralizedLinearRegression, RandomForestRegressor\n",
        "from pyspark.ml.classification import GBTClassifier, RandomForestClassifier\n",
        "from pyspark.ml.feature import VectorIndexer, VectorAssembler, StringIndexer, IndexToString\n",
        "from pyspark.ml.evaluation import RegressionEvaluator\n",
        "from pyspark.ml import Pipeline, PipelineModel\n",
        "from pyspark.ml.evaluation import BinaryClassificationEvaluator, RegressionEvaluator\n",
        "from pyspark.ml.stat import Summarizer\n",
        "from pyspark.sql import Row\n"
      ],
      "execution_count": 0,
      "outputs": []
    },
    {
      "cell_type": "markdown",
      "metadata": {
        "id": "nvK0YRFx78RY",
        "colab_type": "text"
      },
      "source": [
        "## **Create Spark Session**"
      ]
    },
    {
      "cell_type": "code",
      "metadata": {
        "id": "dwGkL0GW7-_j",
        "colab_type": "code",
        "colab": {}
      },
      "source": [
        "spark = SparkSession.builder.appName(\"Spark ML Assignment\").master(\"local[*]\").getOrCreate()"
      ],
      "execution_count": 0,
      "outputs": []
    },
    {
      "cell_type": "markdown",
      "metadata": {
        "id": "gnbtnMcp4v3E",
        "colab_type": "text"
      },
      "source": [
        "## **Load CSV Data into Spark Dataframe**"
      ]
    },
    {
      "cell_type": "code",
      "metadata": {
        "colab_type": "code",
        "id": "iWGahsurrONV",
        "colab": {}
      },
      "source": [
        "schema = StructType([\n",
        "    StructField(\"uid\", IntegerType()),\n",
        "    StructField(\"age\", IntegerType()),\n",
        "    StructField(\"age_group\", StringType()),\n",
        "    StructField(\"profession\", StringType()),\n",
        "    StructField(\"marital_status\", StringType()),\n",
        "    StructField(\"education\", StringType()),\n",
        "    StructField(\"default\", StringType()),\n",
        "    StructField(\"housing\", StringType()),\n",
        "    StructField(\"loan\", StringType()),\n",
        "    StructField(\"gender\", StringType()),\n",
        "    StructField(\"balance\", StringType()),\n",
        "    StructField(\"membership\", StringType()),\n",
        "    StructField(\"charges\", IntegerType()),\n",
        "    StructField(\"customer_contacts\", IntegerType()),\n",
        "    StructField(\"attrition\", IntegerType())\n",
        "])\n",
        "\n",
        "rawdata = spark.read.load('banking_attrition.csv', format=\"csv\", header=True, schema=schema)\n"
      ],
      "execution_count": 0,
      "outputs": []
    },
    {
      "cell_type": "markdown",
      "metadata": {
        "id": "Wu8K-qCi2-Kk",
        "colab_type": "text"
      },
      "source": [
        "## **Data Exploration**\n",
        "Perform at least one data exploration of your choice (This could be a basic show(), an aggregation/[groupby](https://spark.apache.org/docs/latest/api/python/pyspark.sql.html#pyspark.sql.DataFrame.groupBy), [correlation](https://spark.apache.org/docs/latest/ml-statistics.html#correlation), [summarizer](https://spark.apache.org/docs/latest/ml-statistics.html#summarizer), etc.)"
      ]
    },
    {
      "cell_type": "code",
      "metadata": {
        "id": "Cq-KfprP2Ns5",
        "colab_type": "code",
        "colab": {
          "base_uri": "https://localhost:8080/",
          "height": 187
        },
        "outputId": "ccd98656-b4c0-4064-baab-5b8f8ea6be25"
      },
      "source": [
        "rawdata.describe().show()"
      ],
      "execution_count": 26,
      "outputs": [
        {
          "output_type": "stream",
          "text": [
            "+-------+------------------+------------------+---------+--------------+--------------+---------+-------+-------+-----+------+-------------+----------+------------------+------------------+-------------------+\n",
            "|summary|               uid|               age|age_group|    profession|marital_status|education|default|housing| loan|gender|      balance|membership|           charges| customer_contacts|          attrition|\n",
            "+-------+------------------+------------------+---------+--------------+--------------+---------+-------+-------+-----+------+-------------+----------+------------------+------------------+-------------------+\n",
            "|  count|             45211|             45211|    45211|         45211|         45211|    45211|  45211|  45211|45211| 45211|        45211|     45211|             45211|             45211|              45211|\n",
            "|   mean|         1022606.0| 41.06354648205083|     null|          null|          null|     null|   null|   null| null|  null|         null|      null|123.77065315962929| 1.944593129990489|0.22560881201477517|\n",
            "| stddev|13051.435846935257|11.678363426789717|     null|          null|          null|     null|   null|   null| null|  null|         null|      null| 90.36019089570658|2.1048085675863932|0.41798724903398016|\n",
            "|    min|           1000001|                18|      20s|administration|      divorced|  college|     no|     no|   no|female|$100k - $250k|      gold|                 0|                 0|                  0|\n",
            "|    max|           1045211|                95|      U20|       unknown|        single|  unknown|    yes|    yes|  yes|  male|   Under $10k|    silver|               366|                 9|                  1|\n",
            "+-------+------------------+------------------+---------+--------------+--------------+---------+-------+-------+-----+------+-------------+----------+------------------+------------------+-------------------+\n",
            "\n"
          ],
          "name": "stdout"
        }
      ]
    },
    {
      "cell_type": "markdown",
      "metadata": {
        "id": "LFecSimU2cvk",
        "colab_type": "text"
      },
      "source": [
        "**Notes:**\n",
        "*   No null values to worry about. \n",
        "*   Only need one of age and age_group.\n",
        "*   Drop uid from features vector\n",
        "\n",
        "*Find number of levels for categoricals - will convert binary with stringindexer and categorical with dummy encoder*"
      ]
    },
    {
      "cell_type": "code",
      "metadata": {
        "id": "hrXIggYm30XV",
        "colab_type": "code",
        "colab": {
          "base_uri": "https://localhost:8080/",
          "height": 51
        },
        "outputId": "74c13116-79ad-422d-e4ce-7cf6871ecbea"
      },
      "source": [
        "numeric_columns     = [c[0] for c in rawdata.dtypes if c[1] not in ['string']]\n",
        "categorical_columns = [c[0] for c in rawdata.dtypes if c[1] in ['string']]\n",
        "print(numeric_columns)\n",
        "print(categorical_columns)"
      ],
      "execution_count": 29,
      "outputs": [
        {
          "output_type": "stream",
          "text": [
            "['uid', 'age', 'charges', 'customer_contacts', 'attrition']\n",
            "['age_group', 'profession', 'marital_status', 'education', 'default', 'housing', 'loan', 'gender', 'balance', 'membership']\n"
          ],
          "name": "stdout"
        }
      ]
    },
    {
      "cell_type": "code",
      "metadata": {
        "id": "bUBP2T8G3g4c",
        "colab_type": "code",
        "colab": {
          "base_uri": "https://localhost:8080/",
          "height": 1615
        },
        "outputId": "516acaec-cd2f-4a83-f8c1-6203023aad0a"
      },
      "source": [
        "for i in categorical_columns:\n",
        "  rawdata.select(i).distinct().show()"
      ],
      "execution_count": 33,
      "outputs": [
        {
          "output_type": "stream",
          "text": [
            "+---------+\n",
            "|age_group|\n",
            "+---------+\n",
            "|      40s|\n",
            "|      80s|\n",
            "|      70s|\n",
            "|      90s|\n",
            "|      20s|\n",
            "|      50s|\n",
            "|      60s|\n",
            "|      U20|\n",
            "|      30s|\n",
            "+---------+\n",
            "\n",
            "+--------------+\n",
            "|    profession|\n",
            "+--------------+\n",
            "|    management|\n",
            "|       retired|\n",
            "|       unknown|\n",
            "|administration|\n",
            "|     executive|\n",
            "| manufacturing|\n",
            "|       student|\n",
            "|  entrepreneur|\n",
            "|    consulting|\n",
            "|    technician|\n",
            "| self_employed|\n",
            "|    unemployed|\n",
            "+--------------+\n",
            "\n",
            "+--------------+\n",
            "|marital_status|\n",
            "+--------------+\n",
            "|      divorced|\n",
            "|       married|\n",
            "|        single|\n",
            "+--------------+\n",
            "\n",
            "+-----------+\n",
            "|  education|\n",
            "+-----------+\n",
            "|   graduate|\n",
            "|    college|\n",
            "|    unknown|\n",
            "|high school|\n",
            "+-----------+\n",
            "\n",
            "+-------+\n",
            "|default|\n",
            "+-------+\n",
            "|     no|\n",
            "|    yes|\n",
            "+-------+\n",
            "\n",
            "+-------+\n",
            "|housing|\n",
            "+-------+\n",
            "|     no|\n",
            "|    yes|\n",
            "+-------+\n",
            "\n",
            "+----+\n",
            "|loan|\n",
            "+----+\n",
            "|  no|\n",
            "| yes|\n",
            "+----+\n",
            "\n",
            "+------+\n",
            "|gender|\n",
            "+------+\n",
            "|female|\n",
            "|  male|\n",
            "+------+\n",
            "\n",
            "+-------------+\n",
            "|      balance|\n",
            "+-------------+\n",
            "|  $10k - $50k|\n",
            "| $50k - $100k|\n",
            "|   Over $250k|\n",
            "|$100k - $250k|\n",
            "|   Under $10k|\n",
            "+-------------+\n",
            "\n",
            "+----------+\n",
            "|membership|\n",
            "+----------+\n",
            "|    silver|\n",
            "|      gold|\n",
            "|  platinum|\n",
            "+----------+\n",
            "\n"
          ],
          "name": "stdout"
        }
      ]
    },
    {
      "cell_type": "markdown",
      "metadata": {
        "id": "fCnhgjYA5CVn",
        "colab_type": "text"
      },
      "source": [
        "Binary vars: default, housing, loan, gender"
      ]
    },
    {
      "cell_type": "code",
      "metadata": {
        "id": "Ps9tVMXb5NOO",
        "colab_type": "code",
        "colab": {}
      },
      "source": [
        "binary_columns = ['default', 'housing', 'loan', 'gender']\n",
        "categorical_columns = ['age_group', 'profession', 'marital_status', 'education', 'balance', 'membership']"
      ],
      "execution_count": 0,
      "outputs": []
    },
    {
      "cell_type": "markdown",
      "metadata": {
        "id": "wkPpObFZ4Pax",
        "colab_type": "text"
      },
      "source": [
        "## **Split the Spark Dataframe into Train and Test**\n",
        "You could use a [randomsplit](https://spark.apache.org/docs/latest/api/python/pyspark.sql.html#pyspark.sql.DataFrame.randomSplit) here, a [Cross Validator](https://spark.apache.org/docs/latest/ml-tuning.html#cross-validation), or another approach of your choice."
      ]
    },
    {
      "cell_type": "code",
      "metadata": {
        "id": "AmsQfLKA4WwE",
        "colab_type": "code",
        "colab": {}
      },
      "source": [
        "train, test   = rawdata.randomSplit([0.8, 0.2], seed=12345)"
      ],
      "execution_count": 0,
      "outputs": []
    },
    {
      "cell_type": "markdown",
      "metadata": {
        "id": "mvdCBX2D4WNJ",
        "colab_type": "text"
      },
      "source": [
        "## **Feature Engineering**\n",
        "During this step, I'd like to see you convert at least one STRING variable (such as gender, membership, education or another variable of your choice) into a numeric representation so that you can use it as one of the model inputs. You can convert the string to a numeric by using [one-hot encoding](https://spark.apache.org/docs/latest/ml-features.html#onehotencoderestimator), a [stringindexer](https://spark.apache.org/docs/latest/ml-features.html#stringindexer), etc\n",
        "\n",
        "You will also want to define a ML model object. An example of this would be a random forest, gradient boosting, or some other approach listed [here](https://spark.apache.org/docs/latest/ml-classification-regression.html). "
      ]
    },
    {
      "cell_type": "code",
      "metadata": {
        "id": "HqAxflMW5IpU",
        "colab_type": "code",
        "colab": {}
      },
      "source": [
        "# Prepare string variables so that they can be used by the decision tree algorithm\n",
        "# StringIndexer encodes a string column of labels to a column of label indices\n",
        "si1 = StringIndexer(inputCol=\"default\", outputCol=\"default_index\")\n",
        "si2 = StringIndexer(inputCol=\"housing\", outputCol=\"housing_index\")\n",
        "si3 = StringIndexer(inputCol=\"loan\", outputCol=\"loan_index\")\n",
        "si4 = StringIndexer(inputCol=\"gender\", outputCol=\"gender_index\")\n",
        "#si5 = StringIndexer(inputCol=\"age_group\", outputCol=\"age_group_index\")\n",
        "si6 = StringIndexer(inputCol=\"profession\", outputCol=\"profession_index\")\n",
        "si7 = StringIndexer(inputCol=\"marital_status\", outputCol=\"marital_status_index\")\n",
        "si8 = StringIndexer(inputCol=\"education\", outputCol=\"education_index\")\n",
        "si9 = StringIndexer(inputCol=\"balance\", outputCol=\"balance_index\")\n",
        "si10 = StringIndexer(inputCol=\"membership\", outputCol=\"membership_index\")\n",
        "\n",
        "target   = 'attrition'\n",
        "features = ['default_index','housing_index','loan_index','gender_index','profession_index','marital_status_index','education_index','balance_index','membership_index','age', 'charges', 'customer_contacts']\n",
        "\n",
        "#encode the Label column: feature indexer\n",
        "fi = StringIndexer(inputCol='attrition', outputCol='label').fit(train)\n",
        "\n",
        "# Pipelines API requires that input variables are passed in  a vector\n",
        "va  = VectorAssembler(inputCols=features, outputCol=\"features\")\n",
        "\n",
        "# run the algorithm and build model taking the default settings\n",
        "gbm = GBTClassifier(featuresCol=\"features\", labelCol=target, predictionCol=\"prediction\", seed=12345)\n",
        "\n",
        "# Convert indexed labels back to original labels, label converter\n",
        "labelConverter = IndexToString(inputCol=\"prediction\", outputCol=\"predictedLabel\", labels=fi.labels)"
      ],
      "execution_count": 0,
      "outputs": []
    },
    {
      "cell_type": "markdown",
      "metadata": {
        "id": "lwmmMYzP5MpE",
        "colab_type": "text"
      },
      "source": [
        "## **Fit/Train ML Model**"
      ]
    },
    {
      "cell_type": "code",
      "metadata": {
        "id": "a1igoWRu5Pz7",
        "colab_type": "code",
        "colab": {}
      },
      "source": [
        "# Build the machine learning pipeline\n",
        "pipeline_run  = Pipeline(stages=[si1, si2, si3, si4, si6, si7, si8, si9, si10, fi, va, gbm, labelConverter])\n",
        "\n",
        "# Build model. \n",
        "# The fitted model from a Pipeline is a PipelineModel, which consists of fitted models and transformers, corresponding to the pipeline stages.\n",
        "model_run = pipeline_run.fit(train)"
      ],
      "execution_count": 0,
      "outputs": []
    },
    {
      "cell_type": "markdown",
      "metadata": {
        "id": "0-TVO6s55h05",
        "colab_type": "text"
      },
      "source": [
        "## **Make Predictions**\n",
        "Use your model to make predications against the Test (holdout) Dataframe"
      ]
    },
    {
      "cell_type": "code",
      "metadata": {
        "id": "RVuqPtEI5hnX",
        "colab_type": "code",
        "colab": {
          "base_uri": "https://localhost:8080/",
          "height": 309
        },
        "outputId": "f38fdbf0-709a-4c9c-f3ae-abd16cf7a87a"
      },
      "source": [
        "# Make predictions.\n",
        "predictions = model_run.transform(test)\n",
        "predictions.show(10)"
      ],
      "execution_count": 47,
      "outputs": [
        {
          "output_type": "stream",
          "text": [
            "+-------+---+---------+--------------+--------------+-----------+-------+-------+----+------+-------------+----------+-------+-----------------+---------+-------------+-------------+----------+------------+----------------+--------------------+---------------+-------------+----------------+-----+--------------------+--------------------+--------------------+----------+--------------+\n",
            "|    uid|age|age_group|    profession|marital_status|  education|default|housing|loan|gender|      balance|membership|charges|customer_contacts|attrition|default_index|housing_index|loan_index|gender_index|profession_index|marital_status_index|education_index|balance_index|membership_index|label|            features|       rawPrediction|         probability|prediction|predictedLabel|\n",
            "+-------+---+---------+--------------+--------------+-----------+-------+-------+----+------+-------------+----------+-------+-----------------+---------+-------------+-------------+----------+------------+----------------+--------------------+---------------+-------------+----------------+-----+--------------------+--------------------+--------------------+----------+--------------+\n",
            "|1000005| 36|      30s|    management|        single|high school|     no|    yes|  no|  male| $50k - $100k|      gold|    139|                8|        0|          0.0|          0.0|       0.0|         1.0|             1.0|                 1.0|            1.0|          3.0|             2.0|  0.0|[0.0,0.0,0.0,1.0,...|[1.54350146643979...|[0.95635343380198...|       0.0|             0|\n",
            "|1000008| 49|      40s| manufacturing|        single|   graduate|     no|    yes| yes|  male| $50k - $100k|      gold|     40|                0|        0|          0.0|          0.0|       1.0|         1.0|             0.0|                 1.0|            0.0|          3.0|             2.0|  0.0|[0.0,0.0,1.0,1.0,...|[1.54350194911512...|[0.95635347409719...|       0.0|             0|\n",
            "|1000009| 30|      30s|  entrepreneur|       married|   graduate|     no|     no| yes|  male|$100k - $250k|  platinum|    126|                0|        0|          0.0|          1.0|       1.0|         1.0|             8.0|                 0.0|            0.0|          2.0|             0.0|  0.0|[0.0,1.0,1.0,1.0,...|[1.00763656755779...|[0.88239135593771...|       0.0|             0|\n",
            "|1000016| 32|      30s|    technician|        single|high school|     no|     no|  no|  male|$100k - $250k|  platinum|    130|                2|        0|          0.0|          1.0|       0.0|         1.0|             2.0|                 1.0|            1.0|          2.0|             0.0|  0.0|[0.0,1.0,0.0,1.0,...|[1.01942187297246...|[0.88481547837782...|       0.0|             0|\n",
            "|1000017| 53|      50s| manufacturing|      divorced|    college|     no|    yes|  no|female| $50k - $100k|      gold|    262|                4|        1|          0.0|          0.0|       0.0|         0.0|             0.0|                 2.0|            2.0|          3.0|             2.0|  1.0|[0.0,0.0,0.0,0.0,...|[-1.5464366161198...|[0.04340218622111...|       1.0|             1|\n",
            "|1000018| 27|      20s|    technician|       married|   graduate|     no|    yes|  no|  male|   Over $250k|  platinum|     33|                1|        0|          0.0|          0.0|       0.0|         1.0|             2.0|                 0.0|            0.0|          0.0|             0.0|  0.0|(12,[3,4,9,10,11]...|[1.00634094876648...|[0.88212217889345...|       0.0|             0|\n",
            "|1000036| 39|      30s|    technician|       married|   graduate|     no|     no|  no|  male|  $10k - $50k|    silver|    113|                2|        0|          0.0|          1.0|       0.0|         1.0|             2.0|                 0.0|            0.0|          1.0|             1.0|  0.0|[0.0,1.0,0.0,1.0,...|[1.54350194911513...|[0.95635347409719...|       0.0|             0|\n",
            "|1000041| 45|      40s|     executive|       married|   graduate|     no|    yes|  no|female|   Over $250k|  platinum|      9|                0|        0|          0.0|          0.0|       0.0|         0.0|             9.0|                 0.0|            0.0|          0.0|             0.0|  0.0|(12,[4,9,10],[9.0...|[0.97727245001382...|[0.87594137184683...|       0.0|             0|\n",
            "|1000043| 30|      30s|administration|        single|   graduate|     no|     no|  no|female|$100k - $250k|  platinum|    176|                5|        0|          0.0|          1.0|       0.0|         0.0|             3.0|                 1.0|            0.0|          2.0|             0.0|  0.0|[0.0,1.0,0.0,0.0,...|[1.06871421500795...|[0.89448815412083...|       0.0|             0|\n",
            "|1000052| 41|      40s|    management|      divorced|high school|     no|     no|  no|  male|$100k - $250k|  platinum|     88|                9|        0|          0.0|          1.0|       0.0|         1.0|             1.0|                 2.0|            1.0|          2.0|             0.0|  0.0|[0.0,1.0,0.0,1.0,...|[0.98747050550686...|[0.87814083698882...|       0.0|             0|\n",
            "+-------+---+---------+--------------+--------------+-----------+-------+-------+----+------+-------------+----------+-------+-----------------+---------+-------------+-------------+----------+------------+----------------+--------------------+---------------+-------------+----------------+-----+--------------------+--------------------+--------------------+----------+--------------+\n",
            "only showing top 10 rows\n",
            "\n"
          ],
          "name": "stdout"
        }
      ]
    },
    {
      "cell_type": "markdown",
      "metadata": {
        "id": "lHkwh8mM5Si7",
        "colab_type": "text"
      },
      "source": [
        "## **Evaluate Model against Test Dataframe**\n",
        "Display model fit statistics, such as RMSE or MSE"
      ]
    },
    {
      "cell_type": "code",
      "metadata": {
        "id": "ORJ8UOuH5wPX",
        "colab_type": "code",
        "colab": {
          "base_uri": "https://localhost:8080/",
          "height": 34
        },
        "outputId": "262787b7-fb7d-48cb-d705-da656842655e"
      },
      "source": [
        "evaluator = BinaryClassificationEvaluator(metricName=\"areaUnderROC\")\n",
        "roc = evaluator.evaluate(predictions)\n",
        "print('AUC = ' + str(eval))"
      ],
      "execution_count": 54,
      "outputs": [
        {
          "output_type": "stream",
          "text": [
            "AUC = 0.932458998190936\n"
          ],
          "name": "stdout"
        }
      ]
    }
  ]
}